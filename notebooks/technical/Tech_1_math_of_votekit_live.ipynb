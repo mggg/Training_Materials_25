{
 "cells": [
  {
   "cell_type": "code",
   "execution_count": null,
   "id": "20c4b170",
   "metadata": {},
   "outputs": [],
   "source": [
    "! pip install votekit"
   ]
  },
  {
   "cell_type": "markdown",
   "id": "dc15691a",
   "metadata": {},
   "source": [
    "# Math of VoteKit\n",
    "\n",
    "This notebook is a collection of live demos of VoteKit. This is intended to focus on the underlying math of VoteKit, and should be used as a companion to the \"Math of VoteKit\" presentation."
   ]
  },
  {
   "cell_type": "markdown",
   "id": "efe38c7f",
   "metadata": {},
   "source": []
  }
 ],
 "metadata": {
  "language_info": {
   "name": "python"
  }
 },
 "nbformat": 4,
 "nbformat_minor": 5
}
