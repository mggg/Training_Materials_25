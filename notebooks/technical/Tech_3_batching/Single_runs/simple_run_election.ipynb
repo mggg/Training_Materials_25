{
 "cells": [
  {
   "cell_type": "code",
   "execution_count": null,
   "id": "16b183f1",
   "metadata": {},
   "outputs": [],
   "source": [
    "!pip install votekit"
   ]
  },
  {
   "cell_type": "markdown",
   "id": "e95f8a51",
   "metadata": {},
   "source": [
    "# Running an Election in VoteKit\n",
    "\n",
    "As it turns out, once you know how to generate a `PreferenceProfile` object running an election\n",
    "is pretty straightforward. Whenever you call the constructor for an `Election` object\n",
    "the entire election will actually be run, and you will be able to access the results\n",
    "instantly."
   ]
  },
  {
   "cell_type": "code",
   "execution_count": null,
   "id": "1e9fdde2",
   "metadata": {},
   "outputs": [],
   "source": [
    "from gerrychain import Graph\n",
    "import jsonlines as jl\n",
    "import votekit.elections as elec\n",
    "from votekit import PreferenceProfile\n",
    "import votekit.ballot_generator as bg"
   ]
  },
  {
   "cell_type": "code",
   "execution_count": null,
   "id": "f11ea3b6",
   "metadata": {},
   "outputs": [],
   "source": [
    "bloc_voter_prop = {\n",
    "    \"W\": 0.2,\n",
    "    \"C\": 0.8\n",
    "}\n",
    "cohesion_parameters = {\n",
    "    \"W\": {\n",
    "        \"W\": 0.7,\n",
    "        \"C\": 0.3\n",
    "    },\n",
    "    \"C\": {\n",
    "        \"W\": 0.7,\n",
    "        \"C\": 0.3\n",
    "    }\n",
    "}\n",
    "alphas = {\n",
    "    \"W\": {\n",
    "        \"W\": 1,\n",
    "        \"C\": 1\n",
    "    },\n",
    "    \"C\": {\n",
    "        \"W\": 1,\n",
    "        \"C\": 1\n",
    "    }\n",
    "}\n",
    "slate_to_candidates = {\n",
    "    \"W\": [\n",
    "        \"W1\",\n",
    "        \"W2\",\n",
    "        \"W3\"\n",
    "    ],\n",
    "    \"C\": [\n",
    "        \"C1\",\n",
    "        \"C2\"\n",
    "    ]\n",
    "}"
   ]
  },
  {
   "cell_type": "code",
   "execution_count": null,
   "id": "867de349",
   "metadata": {},
   "outputs": [],
   "source": [
    "profile = bg.slate_PlackettLuce.from_params(\n",
    "    bloc_voter_prop=bloc_voter_prop,\n",
    "    cohesion_parameters=cohesion_parameters,\n",
    "    alphas=alphas,\n",
    "    slate_to_candidates=slate_to_candidates\n",
    ").generate_profile(\n",
    "    number_of_ballots=1000\n",
    ")"
   ]
  },
  {
   "cell_type": "code",
   "execution_count": null,
   "id": "9b82c64f",
   "metadata": {},
   "outputs": [],
   "source": [
    "election = elec.STV(profile, m=3)"
   ]
  },
  {
   "cell_type": "markdown",
   "id": "e886610f",
   "metadata": {},
   "source": [
    "In any multi-round election, you can then get all of the information about\n",
    "how the election progressed by accessing the `election_state` attribute of the\n",
    "`Election` object."
   ]
  },
  {
   "cell_type": "code",
   "execution_count": null,
   "id": "2d6acf4d",
   "metadata": {},
   "outputs": [],
   "source": [
    "election"
   ]
  },
  {
   "cell_type": "code",
   "execution_count": null,
   "id": "f9f0e93f",
   "metadata": {},
   "outputs": [],
   "source": [
    "election.get_elected()"
   ]
  },
  {
   "cell_type": "code",
   "execution_count": null,
   "id": "430b7e4f",
   "metadata": {},
   "outputs": [],
   "source": [
    "for i in range(4):\n",
    "    print()\n",
    "    print(election.election_states[i])\n",
    "    print(election.election_states[i].elected)\n",
    "    print(election.election_states[i].remaining)\n",
    "    print(election.election_states[i].scores)"
   ]
  },
  {
   "cell_type": "markdown",
   "id": "dc1feb86",
   "metadata": {},
   "source": [
    "So, all we now need to do is figure out a good way of generating a lot of samples\n",
    "from a lot of different settings. Gathering a lot of samples is easy: just\n",
    "run the ballot generator and the election a bunch of times and then save the results."
   ]
  },
  {
   "cell_type": "code",
   "execution_count": null,
   "id": "77b51ba0",
   "metadata": {},
   "outputs": [],
   "source": [
    "from tqdm.notebook import tqdm\n",
    "with jl.open('election_results.jsonl', 'w') as writer:\n",
    "    # for _ in range(10):\n",
    "    for _ in tqdm(range(30)):\n",
    "        profile = bg.slate_PlackettLuce.from_params(\n",
    "            bloc_voter_prop=bloc_voter_prop,\n",
    "            cohesion_parameters=cohesion_parameters,\n",
    "            alphas=alphas,\n",
    "            slate_to_candidates=slate_to_candidates\n",
    "        ).generate_profile(\n",
    "            number_of_ballots=10000\n",
    "        )\n",
    "        election = elec.STV(profile, m=3)\n",
    "        \n",
    "        writer.write({\n",
    "            \"winners\": [winner for winner_set in election.get_elected() for winner in winner_set],\n",
    "        })"
   ]
  },
  {
   "cell_type": "markdown",
   "id": "b0bf3f40",
   "metadata": {},
   "source": [
    "So the question then becomes, how do we make better predictions?\n",
    "Well, the first thing that we need to do is gather some information about\n",
    "the location in question. We'll look at our dual graph file in this\n",
    "notebook, but commonly, you'll need something like census data to agument\n",
    "your work."
   ]
  },
  {
   "cell_type": "code",
   "execution_count": null,
   "id": "c2ff22d2",
   "metadata": {},
   "outputs": [],
   "source": [
    "graph = Graph.from_json(\"../../../../data/gerrymandria.json\")"
   ]
  },
  {
   "cell_type": "code",
   "execution_count": null,
   "id": "272d4e1d",
   "metadata": {},
   "outputs": [],
   "source": [
    "graph.nodes[0]"
   ]
  },
  {
   "cell_type": "markdown",
   "id": "b3bf9e9c",
   "metadata": {},
   "source": [
    "A good starting point for us here is to just get an estimat on the\n",
    "state-wide POCVAP and WVAP values."
   ]
  },
  {
   "cell_type": "code",
   "execution_count": null,
   "id": "d7f87102",
   "metadata": {},
   "outputs": [],
   "source": [
    "wvap_total = sum(d[\"WVAP\"] for _, d in graph.nodes(data=True))\n",
    "pocvap_total = sum(d[\"POCVAP\"] for _, d in graph.nodes(data=True))\n",
    "total_pop = sum(d[\"TOTPOP\"] for _, d in graph.nodes(data=True))\n",
    "print(f\"Total WVAP: {wvap_total}\")\n",
    "print(f\"\\tTotal WCAP %: {wvap_total / total_pop * 100:.2f}\")\n",
    "print(f\"Total POCVAP: {pocvap_total}\")\n",
    "print(f\"\\tTotal POCAP %: {pocvap_total / total_pop * 100:.2f}\")"
   ]
  },
  {
   "cell_type": "markdown",
   "id": "e4ed02fa",
   "metadata": {},
   "source": [
    "These would be good starting points for some of the parameters for our\n",
    "ballot generator, namely the `bloc_voter_prop` parameter."
   ]
  },
  {
   "cell_type": "code",
   "execution_count": null,
   "id": "39f66c30",
   "metadata": {},
   "outputs": [],
   "source": [
    "bloc_voter_prop = {\n",
    "    \"W\": 0.75,\n",
    "    \"C\": 0.25\n",
    "}\n",
    "cohesion_parameters = {\n",
    "    \"W\": {\n",
    "        \"W\": 0.7,\n",
    "        \"C\": 0.3\n",
    "    },\n",
    "    \"C\": {\n",
    "        \"W\": 0.7,\n",
    "        \"C\": 0.3\n",
    "    }\n",
    "}\n",
    "alphas = {\n",
    "    \"W\": {\n",
    "        \"W\": 1,\n",
    "        \"C\": 1\n",
    "    },\n",
    "    \"C\": {\n",
    "        \"W\": 1,\n",
    "        \"C\": 1\n",
    "    }\n",
    "}\n",
    "slate_to_candidates = {\n",
    "    \"W\": [\n",
    "        \"W1\",\n",
    "        \"W2\",\n",
    "        \"W3\"\n",
    "    ],\n",
    "    \"C\": [\n",
    "        \"C1\",\n",
    "        \"C2\"\n",
    "    ]\n",
    "}"
   ]
  },
  {
   "cell_type": "code",
   "execution_count": null,
   "id": "b9a730e6",
   "metadata": {},
   "outputs": [],
   "source": [
    "ballot_generator_kwargs = dict(\n",
    "    bloc_voter_prop=bloc_voter_prop,\n",
    "    cohesion_parameters=cohesion_parameters,\n",
    "    alphas=alphas,\n",
    "    slate_to_candidates=slate_to_candidates\n",
    ")"
   ]
  },
  {
   "cell_type": "code",
   "execution_count": null,
   "id": "4809fb1b",
   "metadata": {},
   "outputs": [],
   "source": [
    "with jl.open('election_results2.jsonl', 'w') as writer:\n",
    "    # for _ in range(10):\n",
    "    for _ in tqdm(range(30)):\n",
    "        profile = bg.slate_PlackettLuce.from_params(\n",
    "            **ballot_generator_kwargs\n",
    "        ).generate_profile(\n",
    "            number_of_ballots=10000\n",
    "        )\n",
    "        election = elec.STV(profile, m=3)\n",
    "        \n",
    "        writer.write({\n",
    "            \"winners\": [winner for winner_set in election.get_elected() for winner in winner_set],\n",
    "        })"
   ]
  },
  {
   "cell_type": "markdown",
   "id": "0c3318ae",
   "metadata": {},
   "source": [
    "Okay, this is a great starting point, but putting together a bunch of `for`\n",
    "loops in a single notebook is difficult to read, audit, and scale.\n",
    "So we are going to need a better way to do and organize this if we want\n",
    "to be able to keep track of all of the information we are generating."
   ]
  }
 ],
 "metadata": {
  "kernelspec": {
   "display_name": ".venv",
   "language": "python",
   "name": "python3"
  },
  "language_info": {
   "codemirror_mode": {
    "name": "ipython",
    "version": 3
   },
   "file_extension": ".py",
   "mimetype": "text/x-python",
   "name": "python",
   "nbconvert_exporter": "python",
   "pygments_lexer": "ipython3",
   "version": "3.13.3"
  }
 },
 "nbformat": 4,
 "nbformat_minor": 5
}
