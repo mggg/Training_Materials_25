{
  "cells": [
    {
      "cell_type": "markdown",
      "metadata": {
        "id": "view-in-github",
        "colab_type": "text"
      },
      "source": [
        "<a href=\"https://colab.research.google.com/github/mggg/Training_Materials/blob/main/notebooks/practitioners/Prac_1-2_loading_a_CVR.ipynb\" target=\"_parent\"><img src=\"https://colab.research.google.com/assets/colab-badge.svg\" alt=\"Open In Colab\"/></a>"
      ]
    },
    {
      "cell_type": "markdown",
      "id": "dec7a1bc",
      "metadata": {
        "id": "dec7a1bc"
      },
      "source": [
        "# Loading a CVR\n",
        "\n",
        "First, we will need to go and get some data to load into our notebook. Here are the steps:\n",
        "\n",
        "1. Go to our [CVR Example Google Sheet](https://docs.google.com/spreadsheets/d/1BFdXuY2N6lg_IEcms_A-XLu0ybQahXuMdFCdV6yKR_0/edit?gid=1055709698#gid=1055709698)\n",
        "   and download the \"MN2013\" sheet and the \"Cambridge city council 2009\" sheet as CSV files.\n",
        "   Also download the whole sheet as an Excel file.\n",
        "\n",
        "2. Upload the CSV files and the Excel file to this google colab notebook using the \"File\" menu\n",
        "   on the left side of the screen."
      ]
    },
    {
      "cell_type": "markdown",
      "id": "eee46667",
      "metadata": {
        "id": "eee46667"
      },
      "source": [
        "## The Pandas library\n",
        "\n",
        "Much like VoteKit (the main library that we will be working with in this course), Pandas is a\n",
        "library published on the Python Package Index (PyPI) that provides data structures and functions\n",
        "for working with tabular data (Spreadsheets!). We will be working with the Pandas library a lot in\n",
        "this course, so we are now going to spend a couple of minutes getting familiar with it.\n",
        "\n",
        "\n",
        "Since pandas is not a library that comes with your standard Python installation, we will need to\n",
        "make sure that it is installed and then we will need to import it to our notebook. Colab actually\n",
        "comes with pandas preinstalled, so we just need to import it so we can get access to its functions."
      ]
    },
    {
      "cell_type": "code",
      "execution_count": null,
      "id": "8f5187e2",
      "metadata": {
        "id": "8f5187e2"
      },
      "outputs": [],
      "source": [
        "import pandas"
      ]
    },
    {
      "cell_type": "code",
      "execution_count": null,
      "id": "c4e60227",
      "metadata": {
        "id": "c4e60227"
      },
      "outputs": [],
      "source": [
        "mn_df = pandas.read_csv('selected ranked choice CVRs - MN2013.csv')\n",
        "mn_df"
      ]
    },
    {
      "cell_type": "code",
      "execution_count": null,
      "id": "3ed52c0e",
      "metadata": {
        "id": "3ed52c0e"
      },
      "outputs": [],
      "source": [
        "cambridge_df = pandas.read_csv('selected ranked choice CVRs - Cambridge city council 2009.csv')\n",
        "cambridge_df"
      ]
    },
    {
      "cell_type": "code",
      "execution_count": null,
      "id": "92ab308f",
      "metadata": {
        "id": "92ab308f"
      },
      "outputs": [],
      "source": [
        "mn_df_excel = pandas.read_excel('selected ranked choice CVRs.xlsx', sheet_name='MN2013')\n",
        "\n",
        "# Check if the DataFrame loaded from Excel matches the original CSV DataFrame\n",
        "mn_df_excel == mn_df # This will return a DataFrame of boolean values indicating if each element matches"
      ]
    },
    {
      "cell_type": "code",
      "execution_count": null,
      "id": "9cf2860f",
      "metadata": {
        "id": "9cf2860f"
      },
      "outputs": [],
      "source": [
        "# How to check that all the values are equal\n",
        "print(mn_df_excel.equals(mn_df))\n",
        "print(all(mn_df == mn_df_excel))"
      ]
    },
    {
      "cell_type": "code",
      "execution_count": null,
      "id": "78fce0ed",
      "metadata": {
        "id": "78fce0ed"
      },
      "outputs": [],
      "source": [
        "# Do the same to check Cambridge DataFrames\n",
        "cambridge_df_excel = pandas.read_excel('selected ranked choice CVRs.xlsx', sheet_name='Cambridge city council 2009')\n",
        "\n",
        "# Check if the DataFrame loaded from Excel matches the original CSV DataFrame\n",
        "print(cambridge_df_excel.equals(cambridge_df))\n",
        "# Do the same to check Cambridge DataFrames\n",
        "print(all(cambridge_df == cambridge_df_excel))"
      ]
    },
    {
      "cell_type": "markdown",
      "id": "29b764a3",
      "metadata": {
        "id": "29b764a3"
      },
      "source": [
        "## Working with data in a dataframe"
      ]
    },
    {
      "cell_type": "markdown",
      "id": "2c86f2c6",
      "metadata": {
        "id": "2c86f2c6"
      },
      "source": [
        "There are a few different things that we would like to do when working with a dataframe. First, we\n",
        "would like to be able to access particular columns of the dataframe and then collect statistics\n",
        "on those columns. Second, we would like to be able to filter the dataframe based on features."
      ]
    },
    {
      "cell_type": "markdown",
      "id": "e8189f45",
      "metadata": {
        "id": "e8189f45"
      },
      "source": [
        "### Accessing column data"
      ]
    },
    {
      "cell_type": "code",
      "execution_count": null,
      "id": "93fa6f03",
      "metadata": {
        "id": "93fa6f03"
      },
      "outputs": [],
      "source": [
        "mn_df"
      ]
    },
    {
      "cell_type": "markdown",
      "id": "bd8e5f39",
      "metadata": {
        "id": "bd8e5f39"
      },
      "source": [
        "Let's start with getting the precinct names for Minneapolis.\n",
        "\n",
        "As a note, the following code block will print out what is known as a\n",
        "pandas `Series` object, which looks like a DataFrame, but is not a DataFrame.\n",
        "For now, we can consider pandas Series as being basically like a dictionary.\n",
        "The left-hand side of the output will produce the set of \"keys\" and the\n",
        "right-hand side is the \"values\"."
      ]
    },
    {
      "cell_type": "code",
      "execution_count": null,
      "id": "30b29eab",
      "metadata": {
        "id": "30b29eab"
      },
      "outputs": [],
      "source": [
        "mn_df['Precinct']"
      ]
    },
    {
      "cell_type": "markdown",
      "source": [
        "Now try this with the Cambridge dataframe! Why doesn't it work?"
      ],
      "metadata": {
        "id": "jSL52rkWzYVq"
      },
      "id": "jSL52rkWzYVq"
    },
    {
      "cell_type": "code",
      "source": [
        "cambridge_df['Precinct']"
      ],
      "metadata": {
        "id": "tByomZFOzff6"
      },
      "id": "tByomZFOzff6",
      "execution_count": null,
      "outputs": []
    },
    {
      "cell_type": "markdown",
      "id": "a4a6e7c5",
      "metadata": {
        "id": "a4a6e7c5"
      },
      "source": [
        "#### Try it!\n",
        "\n",
        "In the following code block, edit the `column_value` variable to print out the\n",
        "column containing the first place votes of the election."
      ]
    },
    {
      "cell_type": "code",
      "execution_count": null,
      "id": "1cd0a2b5",
      "metadata": {
        "id": "1cd0a2b5"
      },
      "outputs": [],
      "source": [
        "# Change the value of the variable below so that we print out the correct column\n",
        "column_name = 'Precinct'\n",
        "\n",
        "mn_df[column_name]  # You will not need to edit this line"
      ]
    },
    {
      "cell_type": "markdown",
      "id": "b2e5cece",
      "metadata": {
        "id": "b2e5cece"
      },
      "source": [
        "If you want to, you can convert this Series to a dictionary"
      ]
    },
    {
      "cell_type": "code",
      "execution_count": null,
      "id": "76e5504a",
      "metadata": {
        "id": "76e5504a"
      },
      "outputs": [],
      "source": [
        "mn_df[\"Precinct\"].to_dict()"
      ]
    },
    {
      "cell_type": "markdown",
      "id": "ab438bd3",
      "metadata": {
        "id": "ab438bd3"
      },
      "source": [
        "If we think of `mn_df[\"Precinct\"]` as behaving like a dictionary, then it stands to reason that we can grab a single precinct\n",
        "name using `[<precinct number>]` notation."
      ]
    },
    {
      "cell_type": "code",
      "execution_count": null,
      "id": "a29ee62b",
      "metadata": {
        "id": "a29ee62b"
      },
      "outputs": [],
      "source": [
        "precinct_series = mn_df[\"Precinct\"]\n",
        "\n",
        "# Let's grab the precinct name for the precinct in position 1\n",
        "precinct_series[1]"
      ]
    },
    {
      "cell_type": "markdown",
      "id": "674b3e77",
      "metadata": {
        "id": "674b3e77"
      },
      "source": [
        "A row in a dataframe is called a \"location\" and we can grab the whole row of the dataframe using the `.loc[]` method and it will also return a Series.\n",
        "Vexingly, this will print out our row as a column rather than as a row."
      ]
    },
    {
      "cell_type": "code",
      "execution_count": null,
      "id": "082782e1",
      "metadata": {
        "id": "082782e1"
      },
      "outputs": [],
      "source": [
        "mn_df.loc[1]"
      ]
    },
    {
      "cell_type": "markdown",
      "source": [
        "And, as per usual, we can turn this `Series` into a dictionary so that the syntax is\n",
        "a bit more human-readable."
      ],
      "metadata": {
        "id": "83khMd15v_qr"
      },
      "id": "83khMd15v_qr"
    },
    {
      "cell_type": "code",
      "execution_count": null,
      "id": "e75bf9f6",
      "metadata": {
        "id": "e75bf9f6"
      },
      "outputs": [],
      "source": [
        "mn_df.loc[1].to_dict()"
      ]
    },
    {
      "cell_type": "markdown",
      "id": "155b8837",
      "metadata": {
        "id": "155b8837"
      },
      "source": [
        "#### Try it!\n",
        "\n",
        "In the following code block, manually edit the `index` variable to print out the\n",
        "first row with the precinct name 'MINNEAPOLIS W-6 P-02'"
      ]
    },
    {
      "cell_type": "code",
      "execution_count": null,
      "id": "1370c934",
      "metadata": {
        "id": "1370c934"
      },
      "outputs": [],
      "source": [
        "# Edit only the following line\n",
        "index = 0\n",
        "\n",
        "mn_df.loc[index] # You will not need to edit this line"
      ]
    },
    {
      "cell_type": "markdown",
      "id": "d64f5db2",
      "metadata": {
        "id": "d64f5db2"
      },
      "source": [
        "Now edit the value in the square brackets to print out the first choice for\n",
        "mayor in row at location `index` (defined above)."
      ]
    },
    {
      "cell_type": "code",
      "execution_count": null,
      "id": "312c498f",
      "metadata": {
        "id": "312c498f"
      },
      "outputs": [],
      "source": [
        "row = mn_df.loc[index]\n",
        "\n",
        "# Edit the line below\n",
        "row[\"Precinct\"]"
      ]
    },
    {
      "cell_type": "markdown",
      "id": "1acf30bc",
      "metadata": {
        "id": "1acf30bc"
      },
      "source": [
        "As you might imagine is can be really useful to be able to find all of the unique values in a column (say, for figuring out all of the Precinct names)"
      ]
    },
    {
      "cell_type": "code",
      "execution_count": null,
      "id": "a9f03ccb",
      "metadata": {
        "id": "a9f03ccb"
      },
      "outputs": [],
      "source": [
        "mn_df['Precinct'].unique()"
      ]
    },
    {
      "cell_type": "markdown",
      "source": [
        "#### Try it!\n",
        "\n",
        "Can you find the number of Precincts?"
      ],
      "metadata": {
        "id": "Emk7BS0mt5d_"
      },
      "id": "Emk7BS0mt5d_"
    },
    {
      "cell_type": "code",
      "source": [
        "# your code here"
      ],
      "metadata": {
        "id": "C88ekV5pt47s"
      },
      "id": "C88ekV5pt47s",
      "execution_count": null,
      "outputs": []
    },
    {
      "cell_type": "markdown",
      "source": [
        "Lastly, it is sometimes useful to know the number of times each entry appeared.\n",
        "To do this, we can use the `value_counts` method."
      ],
      "metadata": {
        "id": "mQVqsX-zuCDz"
      },
      "id": "mQVqsX-zuCDz"
    },
    {
      "cell_type": "code",
      "execution_count": null,
      "id": "aa41e0aa",
      "metadata": {
        "id": "aa41e0aa"
      },
      "outputs": [],
      "source": [
        "mn_df['Precinct'].value_counts()"
      ]
    },
    {
      "cell_type": "markdown",
      "id": "81215f3b",
      "metadata": {
        "id": "81215f3b"
      },
      "source": [
        "#### Try it!\n",
        "\n",
        "Find the number of first place votes for each candidate in Minneapolis."
      ]
    },
    {
      "cell_type": "code",
      "execution_count": null,
      "id": "df8a534a",
      "metadata": {
        "id": "df8a534a"
      },
      "outputs": [],
      "source": [
        "mn_df['1ST CHOICE MAYOR MINNEAPOLIS']"
      ]
    },
    {
      "cell_type": "markdown",
      "id": "0cdfb7cd",
      "metadata": {
        "id": "0cdfb7cd"
      },
      "source": [
        "### Filtering the dataframe\n",
        "\n",
        "The other important thing that we would like to do is filter a dataframe. In pandas, there are\n",
        "actually two main ways to do this, so we will show both ways of finding all of the ballots belonging to\n",
        "the precinct 'MINNEAPOLIS W-6 P-02', but it should be noted that method 1 is generally preferred."
      ]
    },
    {
      "cell_type": "code",
      "execution_count": null,
      "id": "7a737883",
      "metadata": {
        "id": "7a737883"
      },
      "outputs": [],
      "source": [
        "# Method 1 - using the query function\n",
        "mn_df.query(\" Precinct == 'MINNEAPOLIS W-6 P-02' \")"
      ]
    },
    {
      "cell_type": "code",
      "execution_count": null,
      "id": "d7bf24e3",
      "metadata": {
        "id": "d7bf24e3"
      },
      "outputs": [],
      "source": [
        "# Method 2 - using nested [] notation; this is also known as a boolean mask\n",
        "# This is good to know about, but the query() function is much easier to read\n",
        "mn_df[mn_df['Precinct'] == 'MINNEAPOLIS W-6 P-02']"
      ]
    },
    {
      "cell_type": "markdown",
      "id": "08e762e7",
      "metadata": {
        "id": "08e762e7"
      },
      "source": [
        "#### Try it!\n",
        "\n",
        "Find all of the ballots that marked \"BETSY HODGES\" in first place"
      ]
    },
    {
      "cell_type": "code",
      "execution_count": null,
      "id": "d354cc07",
      "metadata": {
        "id": "d354cc07"
      },
      "outputs": [],
      "source": [
        "# Edit this line\n",
        "mn_df.query(\" `1ST CHOICE MAYOR MINNEAPOLIS` == 'undervote' \")\n",
        "#             ^                            ^\n",
        "# Backticks are needed here because the column name has spaces in it"
      ]
    },
    {
      "cell_type": "markdown",
      "id": "23db2e58",
      "metadata": {
        "id": "23db2e58"
      },
      "source": [
        "Another nice thing about the `query()` function is that it allows us to combine filters easily.\n",
        "\n",
        "Let's try filtering to all ballots in the district 'MINNEAPOLIS W-6 P-02' and the first choice\n",
        "for mayor is 'BETSY HODGES'"
      ]
    },
    {
      "cell_type": "code",
      "execution_count": null,
      "id": "753c9096",
      "metadata": {
        "id": "753c9096"
      },
      "outputs": [],
      "source": [
        "\n",
        "mn_df.query(\" Precinct == 'MINNEAPOLIS W-6 P-02' and `1ST CHOICE MAYOR MINNEAPOLIS` == 'BETSY HODGES' \")\n",
        "#                                                ^\n",
        "#                                      notice the 'and' here"
      ]
    },
    {
      "cell_type": "markdown",
      "id": "a4953420",
      "metadata": {
        "id": "a4953420"
      },
      "source": [
        "Let's now filter the dataframe to find all ballots where the first or second choice for mayor is 'BETSY HODGES'"
      ]
    },
    {
      "cell_type": "code",
      "execution_count": null,
      "id": "4efda901",
      "metadata": {
        "id": "4efda901"
      },
      "outputs": [],
      "source": [
        "\n",
        "mn_df.query(\" `1ST CHOICE MAYOR MINNEAPOLIS` == 'BETSY HODGES' or `2ND CHOICE MAYOR MINNEAPOLIS` == 'BETSY HODGES' \")\n",
        "#                                                              ^\n",
        "#                                                   notice the 'or' here"
      ]
    },
    {
      "cell_type": "markdown",
      "source": [
        "As a nice side-note, if we were to repeat these filters using the boollean mask\n",
        "method, we would need the following lines of code:"
      ],
      "metadata": {
        "id": "7Rw3JRSeudGN"
      },
      "id": "7Rw3JRSeudGN"
    },
    {
      "cell_type": "code",
      "source": [
        "mn_df[(mn_df['Precinct'] == 'MINNEAPOLIS W-6 P-02') & (mn_df['1ST CHOICE MAYOR MINNEAPOLIS'] == 'BETSY HODGES')]\n"
      ],
      "metadata": {
        "id": "o_m1CwhzunzZ"
      },
      "id": "o_m1CwhzunzZ",
      "execution_count": null,
      "outputs": []
    },
    {
      "cell_type": "code",
      "source": [
        "mn_df[(mn_df[\"1ST CHOICE MAYOR MINNEAPOLIS\"] == \"BETSY HODGES\") | (mn_df[\"2ND CHOICE MAYOR MINNEAPOLIS\"] == \"BETSY HODGES\")]"
      ],
      "metadata": {
        "id": "OKgAiEhWvFEb"
      },
      "id": "OKgAiEhWvFEb",
      "execution_count": null,
      "outputs": []
    },
    {
      "cell_type": "markdown",
      "source": [
        "Notice that the boolean masks are quite a bit more difficult to read (this is\n",
        "why we like `query`!)."
      ],
      "metadata": {
        "id": "FgA5W8UdvXW2"
      },
      "id": "FgA5W8UdvXW2"
    },
    {
      "cell_type": "markdown",
      "id": "6b6d8f0b",
      "metadata": {
        "id": "6b6d8f0b"
      },
      "source": [
        "#### Try it!\n",
        "\n",
        "Filter the dataframe to find all ballots which had an undervote in the last two positions (i.e.\n",
        "bullet votes and blank ballots)."
      ]
    },
    {
      "cell_type": "code",
      "execution_count": null,
      "id": "b1296add",
      "metadata": {
        "id": "b1296add"
      },
      "outputs": [],
      "source": [
        "mn_df.query(\" `2ND CHOICE MAYOR MINNEAPOLIS` == 'undervote' \") # Finish this query"
      ]
    },
    {
      "cell_type": "markdown",
      "id": "f685eccb",
      "metadata": {
        "id": "f685eccb"
      },
      "source": [
        "Filter the dataframe to find all ballots in precincts 'MINNEAPOLIS W-8 P-01' or 'MINNEAPOLIS W-4 P-01'."
      ]
    },
    {
      "cell_type": "code",
      "execution_count": null,
      "id": "e1b457d2",
      "metadata": {
        "id": "e1b457d2"
      },
      "outputs": [],
      "source": [
        "mn_df.query(\" Precinct == 'MINNEAPOLIS W-8 P-01' \") # Finish this query"
      ]
    },
    {
      "cell_type": "markdown",
      "source": [
        "### Wrap up\n",
        "\n",
        "Think about all the things that you would have to do in a spreadsheet in order\n",
        "to achieve the same filters as we outlined above. How about finding first\n",
        "place votes?"
      ],
      "metadata": {
        "id": "cclKTylgxKAZ"
      },
      "id": "cclKTylgxKAZ"
    }
  ],
  "metadata": {
    "colab": {
      "provenance": [],
      "include_colab_link": true
    },
    "kernelspec": {
      "display_name": ".venv",
      "language": "python",
      "name": "python3"
    },
    "language_info": {
      "codemirror_mode": {
        "name": "ipython",
        "version": 3
      },
      "file_extension": ".py",
      "mimetype": "text/x-python",
      "name": "python",
      "nbconvert_exporter": "python",
      "pygments_lexer": "ipython3",
      "version": "3.13.3"
    }
  },
  "nbformat": 4,
  "nbformat_minor": 5
}